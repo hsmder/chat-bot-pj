{
 "cells": [
  {
   "cell_type": "code",
   "execution_count": 21,
   "id": "987c752e",
   "metadata": {},
   "outputs": [
    {
     "name": "stderr",
     "output_type": "stream",
     "text": [
      "C:\\Users\\nextop\\AppData\\Local\\Temp\\ipykernel_7892\\2819462209.py:5: DeprecationWarning: executable_path has been deprecated, please pass in a Service object\n",
      "  driver = webdriver.Chrome('C:/Users/nextop/Downloads/chromedriver_win32/chromedriver.exe')\n"
     ]
    },
    {
     "name": "stdout",
     "output_type": "stream",
     "text": [
      "win\n"
     ]
    }
   ],
   "source": [
    "from selenium import webdriver\n",
    "from urllib.request import urlopen\n",
    "from bs4 import BeautifulSoup\n",
    "\n",
    "driver = webdriver.Chrome('C:/Users/nextop/Downloads/chromedriver_win32/chromedriver.exe')\n",
    "# driver.implicitly_wait(3)\n",
    "driver.get(\"https://www.livesport.com/team/manchester-united/ppjDR086/\")\n",
    "page=driver.page_source\n",
    "bs_obj=BeautifulSoup(page,\"html.parser\")\n",
    "# bs_obj\n",
    "# # print(bs_obj)\n",
    "win =bs_obj.find_all(\"div\",{\"class\":\"formIcon formIcon--w\"})\n",
    "#win\n",
    "# print(win)\n",
    "#tiewin =bs_obj.find_all(\"div\",{\"class\":\"formIcon formIcon--wo\"})\n",
    "#tiewin\n",
    "draw = bs_obj.find_all(\"div\",{\"class\":\"formIcon formIcon--d\"})\n",
    "#draw\n",
    "lose = bs_obj.find_all(\"div\",{\"class\":\"formIcon formIcon--l\"})\n",
    "#lose\n",
    "# tielose = bs_obj.find_all(\"span\",{\"class\":\"formIcon formIcon--lo\"})\n",
    "n_win =len(win)\n",
    "n_draw=len(draw)\n",
    "n_lose = len(lose)\n",
    "#print(n_win)\n",
    "#print(n_draw)\n",
    "#print(n_lose)\n",
    "\n",
    "report ={'win':n_win,'draw':n_draw,'lose':n_lose}\n",
    "max_n=max(report.values())\n",
    "#report.keys()\n",
    "\n",
    "for key in report:\n",
    "    if(report[key]==max_n):\n",
    "        print(key)\n",
    "\n",
    "\n"
   ]
  }
 ],
 "metadata": {
  "kernelspec": {
   "display_name": "py3_8_5",
   "language": "python",
   "name": "py3_8_5"
  },
  "language_info": {
   "codemirror_mode": {
    "name": "ipython",
    "version": 3
   },
   "file_extension": ".py",
   "mimetype": "text/x-python",
   "name": "python",
   "nbconvert_exporter": "python",
   "pygments_lexer": "ipython3",
   "version": "3.8.5"
  }
 },
 "nbformat": 4,
 "nbformat_minor": 5
}
